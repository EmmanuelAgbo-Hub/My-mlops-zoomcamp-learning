{
 "cells": [
  {
   "cell_type": "markdown",
   "id": "1f2803c9",
   "metadata": {},
   "source": [
    "## MLOP ZOOMCAMP ASSIGNMENT 1\n",
    "#### 2025\n",
    "\n",
    "### Home work 1 Purpose\n",
    "To train an ML model to predict taxi journey duration"
   ]
  },
  {
   "cell_type": "markdown",
   "id": "9903568a",
   "metadata": {},
   "source": [
    "**import the needed python libraries for the homework**"
   ]
  },
  {
   "cell_type": "code",
   "execution_count": 1,
   "id": "a3a90c7c",
   "metadata": {},
   "outputs": [],
   "source": [
    "import pandas as pd\n",
    "import seaborn as sns\n",
    "import matplotlib.pyplot as plt"
   ]
  },
  {
   "cell_type": "code",
   "execution_count": 2,
   "id": "e38579d2",
   "metadata": {},
   "outputs": [],
   "source": [
    "from sklearn.feature_extraction import  DictVectorizer"
   ]
  },
  {
   "cell_type": "code",
   "execution_count": 3,
   "id": "9a44f540",
   "metadata": {},
   "outputs": [],
   "source": [
    "from sklearn.linear_model import Lasso, LinearRegression\n",
    "from sklearn.metrics import root_mean_squared_error"
   ]
  },
  {
   "cell_type": "code",
   "execution_count": 4,
   "id": "3d28e5ad",
   "metadata": {},
   "outputs": [],
   "source": [
    "def wrangle(filename):\n",
    "    ##\n",
    "    df = pd.read_parquet(filename)\n",
    "    print(f'The dataset contains {df.shape[0]} rows and {df.shape[1]} columns')\n",
    "    tot_rows = df.shape[0]\n",
    "\n",
    "    df.tpep_pickup_datetime = pd.to_datetime(df.tpep_pickup_datetime) \n",
    "    df.tpep_dropoff_datetime = pd.to_datetime(df.tpep_dropoff_datetime) \n",
    "\n",
    "    df['duration'] = df.tpep_dropoff_datetime - df.tpep_pickup_datetime\n",
    "\n",
    "    df['duration'] = df['duration'].apply(lambda td: td.seconds/60)\n",
    "\n",
    "    print(f'The standard deviation of duration column is {df['duration'].std().round(4)}')\n",
    "\n",
    "    df = df[df['duration'].between(1, 60)]\n",
    "\n",
    "    print(f'After removing duration below 1 minute/above 60 minutes, the proportion remaining is {round(df.shape[0]/tot_rows , 2)}')\n",
    "\n",
    "\n",
    "    return df"
   ]
  },
  {
   "cell_type": "code",
   "execution_count": 6,
   "id": "054f3925",
   "metadata": {},
   "outputs": [
    {
     "name": "stdout",
     "output_type": "stream",
     "text": [
      "The dataset contains 3066766 rows and 19 columns\n",
      "The standard deviation of duration column is 41.6292\n",
      "After removing duration below 1 minute/above 60 minutes, the proportion remaining is 0.98\n",
      "The dataset contains 2913955 rows and 19 columns\n",
      "The standard deviation of duration column is 44.3467\n",
      "After removing duration below 1 minute/above 60 minutes, the proportion remaining is 0.98\n"
     ]
    },
    {
     "data": {
      "text/plain": [
       "(2855951, 20)"
      ]
     },
     "execution_count": 6,
     "metadata": {},
     "output_type": "execute_result"
    }
   ],
   "source": [
    "january = 'https://d37ci6vzurychx.cloudfront.net/trip-data/yellow_tripdata_2023-01.parquet'\n",
    "february = 'https://d37ci6vzurychx.cloudfront.net/trip-data/yellow_tripdata_2023-02.parquet'\n",
    "df = wrangle(january)\n",
    "\n",
    "df_val = wrangle(february)\n",
    "df_val.shape"
   ]
  },
  {
   "cell_type": "code",
   "execution_count": 7,
   "id": "beb3ade9",
   "metadata": {},
   "outputs": [
    {
     "name": "stdout",
     "output_type": "stream",
     "text": [
      "The standard deviation of duration column is 9.9394\n"
     ]
    }
   ],
   "source": [
    "print(f'The standard deviation of duration column is {df['duration'].std().round(4)}')"
   ]
  },
  {
   "cell_type": "code",
   "execution_count": 8,
   "id": "ad644652",
   "metadata": {},
   "outputs": [
    {
     "data": {
      "text/plain": [
       "count    3009176.00\n",
       "mean          14.20\n",
       "std            9.94\n",
       "min            1.00\n",
       "25%            7.22\n",
       "50%           11.55\n",
       "75%           18.18\n",
       "max           60.00\n",
       "Name: duration, dtype: float64"
      ]
     },
     "execution_count": 8,
     "metadata": {},
     "output_type": "execute_result"
    }
   ],
   "source": [
    "df['duration'].describe().round(2)"
   ]
  },
  {
   "cell_type": "code",
   "execution_count": 10,
   "id": "7b2e1c79",
   "metadata": {},
   "outputs": [
    {
     "data": {
      "text/plain": [
       "<seaborn.axisgrid.FacetGrid at 0x7a7725dcf6b0>"
      ]
     },
     "execution_count": 10,
     "metadata": {},
     "output_type": "execute_result"
    },
    {
     "data": {
      "image/png": "[encoded data removed]",
      "text/plain": [
       "<Figure size 500x500 with 1 Axes>"
      ]
     },
     "metadata": {},
     "output_type": "display_data"
    }
   ],
   "source": [
    "sns.displot(df['duration'])"
   ]
  },
  {
   "cell_type": "code",
   "execution_count": 9,
   "id": "e81209b9",
   "metadata": {},
   "outputs": [
    {
     "data": {
      "text/plain": [
       "(3009176, 20)"
      ]
     },
     "execution_count": 9,
     "metadata": {},
     "output_type": "execute_result"
    }
   ],
   "source": [
    "# The plot above indicates the presence of outliers\n",
    "# Let us remove it\n",
    "df = df[df['duration'].between(1, 60)]\n",
    "df.shape"
   ]
  },
  {
   "cell_type": "code",
   "execution_count": 21,
   "id": "c02ad693",
   "metadata": {},
   "outputs": [
    {
     "name": "stdout",
     "output_type": "stream",
     "text": [
      "After removing duration below 1 minute/above 60 minutes, the proportion remaining is 0.98\n"
     ]
    }
   ],
   "source": [
    "print(f'After removing duration below 1 minute/above 60 minutes, the proportion remaining is {round(df.shape[0]/3066766 , 2)}')"
   ]
  },
  {
   "cell_type": "code",
   "execution_count": 10,
   "id": "a5e4448e",
   "metadata": {},
   "outputs": [],
   "source": [
    "def train_model(df):\n",
    "\n",
    "    categorical = ['PULocationID',\t'DOLocationID']\n",
    "    numerical = ['trip_distance']\n",
    "    df[categorical] = df[categorical].astype(str)\n",
    "    train_dicts = df[categorical + numerical].to_dict(orient= 'records')\n",
    "\n",
    "    dv = DictVectorizer()\n",
    "    X_train = dv.fit_transform(train_dicts)\n",
    " \n",
    "    print(f'The feature matrix has {X_train.shape[1]} columns')\n",
    "    target = 'duration'\n",
    "    y_train =df[target].values\n",
    "\n",
    "    model_lin = LinearRegression()\n",
    "    model_lasso = Lasso()\n",
    "    model_lin.fit(X_train, y_train)\n",
    "    model_lasso.fit(X_train, y_train)\n",
    "\n",
    "    y_pred_lr = model_lin.predict(X_train)\n",
    "    y_pred_lasso = model_lasso.predict(X_train)\n",
    "    rmse1 = root_mean_squared_error(y_train, y_pred_lr)\n",
    "    rmse2 = root_mean_squared_error(y_train, y_pred_lasso)\n",
    "    return {\n",
    "            'X_train': X_train, \n",
    "            'y_train': y_train, \n",
    "            'rmse linear regression': rmse1, \n",
    "            'rmse lasso regression': rmse2, \n",
    "            'model1': model_lin\n",
    "            }\n",
    "\n",
    "    \n"
   ]
  },
  {
   "cell_type": "code",
   "execution_count": 12,
   "id": "8f8300cd",
   "metadata": {},
   "outputs": [
    {
     "name": "stdout",
     "output_type": "stream",
     "text": [
      "The feature matrix has 516 columns\n"
     ]
    },
    {
     "data": {
      "text/plain": [
       "{'X_train': <Compressed Sparse Row sparse matrix of dtype 'float64'\n",
       " \twith 9027528 stored elements and shape (3009176, 516)>,\n",
       " 'y_train': array([ 8.43333333,  6.31666667, 12.75      , ..., 24.51666667,\n",
       "        13.        , 14.4       ], shape=(3009176,)),\n",
       " 'rmse linear regression': 7.658400410770745,\n",
       " 'rmse lasso regression': 9.938398501183862,\n",
       " 'model1': LinearRegression()}"
      ]
     },
     "execution_count": 12,
     "metadata": {},
     "output_type": "execute_result"
    }
   ],
   "source": [
    "ma = train_model(df)\n",
    "ma"
   ]
  },
  {
   "cell_type": "code",
   "execution_count": 13,
   "id": "722a2f89",
   "metadata": {},
   "outputs": [
    {
     "name": "stderr",
     "output_type": "stream",
     "text": [
      "/tmp/ipykernel_10380/1013725182.py:1: UserWarning: \n",
      "\n",
      "`distplot` is a deprecated function and will be removed in seaborn v0.14.0.\n",
      "\n",
      "Please adapt your code to use either `displot` (a figure-level function with\n",
      "similar flexibility) or `histplot` (an axes-level function for histograms).\n",
      "\n",
      "For a guide to updating your code to use the new functions, please see\n",
      "https://gist.github.com/mwaskom/de44147ed2974457ad6372750bbe5751\n",
      "\n",
      "  sns.distplot(ma['model1'].predict(ma['X_train']), label= 'predictions')\n"
     ]
    },
    {
     "name": "stderr",
     "output_type": "stream",
     "text": [
      "/tmp/ipykernel_10380/1013725182.py:2: UserWarning: \n",
      "\n",
      "`distplot` is a deprecated function and will be removed in seaborn v0.14.0.\n",
      "\n",
      "Please adapt your code to use either `displot` (a figure-level function with\n",
      "similar flexibility) or `histplot` (an axes-level function for histograms).\n",
      "\n",
      "For a guide to updating your code to use the new functions, please see\n",
      "https://gist.github.com/mwaskom/de44147ed2974457ad6372750bbe5751\n",
      "\n",
      "  sns.distplot(ma['y_train'], label= 'actual')\n"
     ]
    },
    {
     "data": {
      "text/plain": [
       "<matplotlib.legend.Legend at 0x719d060243e0>"
      ]
     },
     "execution_count": 13,
     "metadata": {},
     "output_type": "execute_result"
    },
    {
     "data": {
      "image/png": "[encoded data removed]",
      "text/plain": [
       "<Figure size 640x480 with 1 Axes>"
      ]
     },
     "metadata": {},
     "output_type": "display_data"
    }
   ],
   "source": [
    "sns.distplot(ma['model1'].predict(ma['X_train']), label= 'predictions')\n",
    "sns.distplot(ma['y_train'], label= 'actual')\n",
    "\n",
    "plt.legend()"
   ]
  },
  {
   "cell_type": "code",
   "execution_count": 14,
   "id": "9982db54",
   "metadata": {},
   "outputs": [
    {
     "name": "stdout",
     "output_type": "stream",
     "text": [
      "The rmse of the LinearRegression model on a train set is 7.658400410770745\n"
     ]
    }
   ],
   "source": [
    "print(f'The rmse of the LinearRegression model on a train set is {ma['rmse linear regression']}')"
   ]
  },
  {
   "cell_type": "code",
   "execution_count": 15,
   "id": "d211d4c1",
   "metadata": {},
   "outputs": [],
   "source": [
    "categorical = ['PULocationID',\t'DOLocationID']\n",
    "numerical = ['trip_distance']\n",
    "\n",
    "df[categorical] = df[categorical].astype(str)\n",
    "train_dicts = df[categorical + numerical].to_dict(orient= 'records')\n",
    "\n",
    "dv = DictVectorizer()\n",
    "X_train = dv.fit_transform(train_dicts)\n",
    "\n",
    "\n",
    "df_val[categorical] = df_val[categorical].astype(str)\n",
    "val_dicts = df_val[categorical + numerical].to_dict(orient= 'records')\n",
    "\n",
    "X_val = dv.transform(val_dicts)\n",
    "\n",
    "\n"
   ]
  },
  {
   "cell_type": "code",
   "execution_count": 16,
   "id": "8867b360",
   "metadata": {},
   "outputs": [],
   "source": [
    "y_val = df_val['duration'].values\n",
    "\n",
    "y_pred = ma['model1'].predict(X_val)\n",
    "rmse_val = root_mean_squared_error(y_val, y_pred)\n",
    "\n"
   ]
  },
  {
   "cell_type": "code",
   "execution_count": 17,
   "id": "adf75333",
   "metadata": {},
   "outputs": [
    {
     "name": "stdout",
     "output_type": "stream",
     "text": [
      "The rmse of the LinearRegression model on a validation set is 7.819920146465773\n"
     ]
    }
   ],
   "source": [
    "print(f'The rmse of the LinearRegression model on a validation set is {rmse_val}')"
   ]
  },
  {
   "cell_type": "code",
   "execution_count": null,
   "id": "ea89f3b8",
   "metadata": {},
   "outputs": [
    {
     "name": "stdout",
     "output_type": "stream",
     "text": [
      "Collecting click\n",
      "  Downloading click-8.2.1-py3-none-any.whl.metadata (2.5 kB)\n",
      "Downloading click-8.2.1-py3-none-any.whl (102 kB)\n",
      "Installing collected packages: click\n",
      "Successfully installed click-8.2.1\n"
     ]
    }
   ],
   "source": []
  },
  {
   "cell_type": "code",
   "execution_count": null,
   "id": "7de85398",
   "metadata": {},
   "outputs": [],
   "source": []
  }
 ],
 "metadata": {
  "kernelspec": {
   "display_name": "Python 3",
   "language": "python",
   "name": "python3"
  },
  "language_info": {
   "codemirror_mode": {
    "name": "ipython",
    "version": 3
   },
   "file_extension": ".py",
   "mimetype": "text/x-python",
   "name": "python",
   "nbconvert_exporter": "python",
   "pygments_lexer": "ipython3",
   "version": "3.12.1"
  }
 },
 "nbformat": 4,
 "nbformat_minor": 5
}
