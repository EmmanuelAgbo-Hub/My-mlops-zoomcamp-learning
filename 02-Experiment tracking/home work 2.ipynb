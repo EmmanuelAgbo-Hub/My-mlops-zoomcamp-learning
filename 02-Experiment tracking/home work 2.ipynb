{
 "cells": [
  {
   "cell_type": "code",
   "execution_count": 1,
   "id": "317f7fbc",
   "metadata": {},
   "outputs": [],
   "source": [
    "import mlflow\n",
    "import pandas as pd\n",
    "from sklearn.feature_extraction import DictVectorizer\n",
    "from sklearn.ensemble import RandomForestRegressor\n",
    "from sklearn.metrics import root_mean_squared_error\n",
    "from hyperopt import STATUS_OK, Trials, fmin, hp, tpe\n",
    "from hyperopt.pyll import scope\n",
    "import numpy as np  "
   ]
  },
  {
   "cell_type": "code",
   "execution_count": 5,
   "id": "bb221d9e",
   "metadata": {},
   "outputs": [
    {
     "data": {
      "text/plain": [
       "<Experiment: artifact_location='mlflow-artifacts:/737292920269680723', creation_time=1748519859311, experiment_id='737292920269680723', last_update_time=1748519859311, lifecycle_stage='active', name='my_first_experiment', tags={}>"
      ]
     },
     "execution_count": 5,
     "metadata": {},
     "output_type": "execute_result"
    }
   ],
   "source": [
    "mlflow.set_tracking_uri(\"http://localhost:8080/\")\n",
    "mlflow.set_experiment(\"my_first_experiment\")"
   ]
  },
  {
   "cell_type": "code",
   "execution_count": 7,
   "id": "a65fb669",
   "metadata": {},
   "outputs": [],
   "source": [
    "def read_dataframe(filename: str):\n",
    "    df = pd.read_parquet(filename)\n",
    "\n",
    "    df['duration'] = df['lpep_dropoff_datetime'] - df['lpep_pickup_datetime']\n",
    "    df.duration = df.duration.apply(lambda td: td.total_seconds() / 60)\n",
    "    df = df[(df.duration >= 1) & (df.duration <= 60)]\n",
    "\n",
    "    categorical = ['PULocationID', 'DOLocationID']\n",
    "    df[categorical] = df[categorical].astype(str)\n",
    "\n",
    "    return df"
   ]
  },
  {
   "cell_type": "code",
   "execution_count": 8,
   "id": "a32f8026",
   "metadata": {},
   "outputs": [],
   "source": [
    "def preprocess(df: pd.DataFrame, dv: DictVectorizer, fit_dv: bool = False):\n",
    "    df['PU_DO'] = df['PULocationID'] + '_' + df['DOLocationID']\n",
    "    categorical = ['PU_DO']\n",
    "    numerical = ['trip_distance']\n",
    "    dicts = df[categorical + numerical].to_dict(orient='records')\n",
    "    if fit_dv:\n",
    "        X = dv.fit_transform(dicts)\n",
    "    else:\n",
    "        X = dv.transform(dicts)\n",
    "    return X, dv\n"
   ]
  },
  {
   "cell_type": "code",
   "execution_count": 9,
   "id": "b515ff55",
   "metadata": {},
   "outputs": [],
   "source": [
    "path = \"data/green_tripdata_2023-01.parquet\"\n",
    "df_train = read_dataframe('data/green_tripdata_2023-01.parquet')\n",
    "df_val = read_dataframe('data/green_tripdata_2023-02.parquet')\n",
    "df_test = read_dataframe('data/green_tripdata_2023-03.parquet')"
   ]
  },
  {
   "cell_type": "code",
   "execution_count": 10,
   "id": "f70798ad",
   "metadata": {},
   "outputs": [],
   "source": [
    "# Extract the target\n",
    "target = 'duration'\n",
    "y_train = df_train[target].values\n",
    "y_val = df_val[target].values\n",
    "y_test = df_test[target].values\n",
    "\n",
    "# Fit the DictVectorizer and preprocess data\n",
    "dv = DictVectorizer()\n",
    "X_train, dv = preprocess(df_train, dv, fit_dv=True)\n",
    "X_val, _ = preprocess(df_val, dv, fit_dv=False)\n",
    "X_test, _ = preprocess(df_test, dv, fit_dv=False)"
   ]
  },
  {
   "cell_type": "code",
   "execution_count": 11,
   "id": "b4997d86",
   "metadata": {},
   "outputs": [
    {
     "data": {
      "text/plain": [
       "((65946, 5702), (62574, 5702), (69392, 5702), (65946,), (62574,), (69392,))"
      ]
     },
     "execution_count": 11,
     "metadata": {},
     "output_type": "execute_result"
    }
   ],
   "source": [
    "X_train.shape, X_val.shape, X_test.shape, y_train.shape, y_val.shape, y_test.shape"
   ]
  },
  {
   "cell_type": "code",
   "execution_count": 12,
   "id": "c51d9669",
   "metadata": {},
   "outputs": [
    {
     "data": {
      "text/plain": [
       "(scipy.sparse._csr.csr_matrix,\n",
       " numpy.ndarray,\n",
       " sklearn.feature_extraction._dict_vectorizer.DictVectorizer)"
      ]
     },
     "execution_count": 12,
     "metadata": {},
     "output_type": "execute_result"
    }
   ],
   "source": [
    "type(X_train), type(y_train), type(dv)"
   ]
  },
  {
   "cell_type": "code",
   "execution_count": 13,
   "id": "959f4bea",
   "metadata": {},
   "outputs": [
    {
     "name": "stderr",
     "output_type": "stream",
     "text": [
      "2025/05/29 16:14:25 INFO mlflow.tracking.fluent: Autologging successfully enabled for sklearn.\n"
     ]
    },
    {
     "name": "stdout",
     "output_type": "stream",
     "text": [
      "🏃 View run crawling-swan-13 at: http://localhost:8080/#/experiments/737292920269680723/runs/2911b84b61c7481099a98bf876431158\n",
      "🧪 View experiment at: http://localhost:8080/#/experiments/737292920269680723\n"
     ]
    }
   ],
   "source": [
    "mlflow.autolog()\n",
    "with mlflow.start_run():\n",
    "    mlflow.set_tag('developer', 'Emmanuel')\n",
    "    \n",
    "    #mlflow.log_param('training_data_path', 'data/green_tripdata_2023-01.parquet')\n",
    "    \n",
    "    #mlflow.log_param('validation_data_path', 'data/green_tripdata_2023-02.parquet')\n",
    "    #mlflow.log_param('test_data_path', 'data/green_tripdata_2023-03.parquet')\n",
    "    rf = RandomForestRegressor(max_depth=10, random_state=0)\n",
    "    rf.fit(X_train, y_train)\n",
    "    y_pred = rf.predict(X_val)\n",
    "\n",
    "    rmse = root_mean_squared_error(y_val, y_pred)\n",
    "    #mlflow.log_metric('rmse', rmse)\n",
    "    #mlflow.sklearn.log_model(rf, artifact_path='model')"
   ]
  },
  {
   "cell_type": "code",
   "execution_count": 5,
   "id": "204f8d4d",
   "metadata": {},
   "outputs": [],
   "source": [
    "\n",
    "#http://127.0.0.1:8080\n",
    "# mlflow server --host 127.0.0.1 --port 8080\n",
    "\n"
   ]
  },
  {
   "cell_type": "code",
   "execution_count": 3,
   "id": "c2c83c3e",
   "metadata": {},
   "outputs": [
    {
     "data": {
      "text/plain": [
       "<Experiment: artifact_location='mlflow-artifacts:/651912994835839713', creation_time=1748536528132, experiment_id='651912994835839713', last_update_time=1748536528132, lifecycle_stage='active', name='random-forest-hyperopt', tags={}>"
      ]
     },
     "execution_count": 3,
     "metadata": {},
     "output_type": "execute_result"
    }
   ],
   "source": [
    "mlflow.set_tracking_uri(\"http://127.0.0.1:8080\")\n",
    "mlflow.set_experiment(\"random-forest-hyperopt\")"
   ]
  },
  {
   "cell_type": "code",
   "execution_count": 20,
   "id": "b34c439d",
   "metadata": {},
   "outputs": [],
   "source": [
    "def objective(params):\n",
    "\n",
    "        with mlflow.start_run():\n",
    "                mlflow.set_tag('developer', 'Emmanuel')\n",
    "                mlflow.autolog()\n",
    "                rf = RandomForestRegressor(**params)\n",
    "                rf.fit(X_train, y_train)\n",
    "                y_pred = rf.predict(X_val)\n",
    "                rmse = root_mean_squared_error(y_val, y_pred)\n",
    "\n",
    "        return {'loss': rmse, 'status': STATUS_OK}\n",
    "\n",
    "\n"
   ]
  },
  {
   "cell_type": "code",
   "execution_count": 23,
   "id": "735fcc0a",
   "metadata": {},
   "outputs": [
    {
     "name": "stdout",
     "output_type": "stream",
     "text": [
      "  0%|          | 0/20 [00:00<?, ?trial/s, best loss=?]"
     ]
    },
    {
     "name": "stderr",
     "output_type": "stream",
     "text": [
      "2025/05/29 17:06:58 INFO mlflow.tracking.fluent: Autologging successfully enabled for sklearn.\n",
      "\n"
     ]
    },
    {
     "name": "stdout",
     "output_type": "stream",
     "text": [
      "🏃 View run orderly-rook-125 at: http://127.0.0.1:8080/#/experiments/651912994835839713/runs/e129e5e952fa42fdbc2aa40ca233401c\n",
      "\n",
      "🧪 View experiment at: http://127.0.0.1:8080/#/experiments/651912994835839713\n",
      "\n",
      "  5%|▌         | 1/20 [00:14<04:31, 14.31s/trial, best loss: 5.370086069268862]"
     ]
    },
    {
     "name": "stderr",
     "output_type": "stream",
     "text": [
      "2025/05/29 17:07:12 INFO mlflow.tracking.fluent: Autologging successfully enabled for sklearn.\n",
      "\n"
     ]
    },
    {
     "name": "stdout",
     "output_type": "stream",
     "text": [
      "🏃 View run defiant-wasp-530 at: http://127.0.0.1:8080/#/experiments/651912994835839713/runs/7c4573986aec49df9036e12921d41b04\n",
      "\n",
      "🧪 View experiment at: http://127.0.0.1:8080/#/experiments/651912994835839713  \n",
      "\n",
      " 10%|█         | 2/20 [00:19<02:38,  8.82s/trial, best loss: 5.370086069268862]"
     ]
    },
    {
     "name": "stderr",
     "output_type": "stream",
     "text": [
      "2025/05/29 17:07:17 INFO mlflow.tracking.fluent: Autologging successfully enabled for sklearn.\n",
      "\n"
     ]
    },
    {
     "name": "stdout",
     "output_type": "stream",
     "text": [
      "🏃 View run fearless-midge-412 at: http://127.0.0.1:8080/#/experiments/651912994835839713/runs/5120a36184b9464e97ac46625e303146\n",
      "\n",
      "🧪 View experiment at: http://127.0.0.1:8080/#/experiments/651912994835839713  \n",
      "\n",
      " 15%|█▌        | 3/20 [00:24<02:01,  7.15s/trial, best loss: 5.370086069268862]"
     ]
    },
    {
     "name": "stderr",
     "output_type": "stream",
     "text": [
      "2025/05/29 17:07:22 INFO mlflow.tracking.fluent: Autologging successfully enabled for sklearn.\n",
      "\n"
     ]
    },
    {
     "name": "stdout",
     "output_type": "stream",
     "text": [
      "🏃 View run capable-goose-676 at: http://127.0.0.1:8080/#/experiments/651912994835839713/runs/7c54933b22c2485f907c368cfb352c2b\n",
      "\n",
      "🧪 View experiment at: http://127.0.0.1:8080/#/experiments/651912994835839713  \n",
      "\n",
      " 20%|██        | 4/20 [00:34<02:15,  8.48s/trial, best loss: 5.357490752366866]"
     ]
    },
    {
     "name": "stderr",
     "output_type": "stream",
     "text": [
      "2025/05/29 17:07:33 INFO mlflow.tracking.fluent: Autologging successfully enabled for sklearn.\n",
      "\n"
     ]
    },
    {
     "name": "stdout",
     "output_type": "stream",
     "text": [
      "🏃 View run rumbling-vole-700 at: http://127.0.0.1:8080/#/experiments/651912994835839713/runs/1f5954840ac64f3192abe008758d82cf\n",
      "\n",
      "🧪 View experiment at: http://127.0.0.1:8080/#/experiments/651912994835839713  \n",
      "\n",
      " 25%|██▌       | 5/20 [00:42<02:03,  8.24s/trial, best loss: 5.357490752366866]"
     ]
    },
    {
     "name": "stderr",
     "output_type": "stream",
     "text": [
      "2025/05/29 17:07:41 INFO mlflow.tracking.fluent: Autologging successfully enabled for sklearn.\n",
      "\n"
     ]
    },
    {
     "name": "stdout",
     "output_type": "stream",
     "text": [
      "🏃 View run gregarious-hawk-904 at: http://127.0.0.1:8080/#/experiments/651912994835839713/runs/1f3a2677d2de43aa843c0cffc54588f0\n",
      "\n",
      "🧪 View experiment at: http://127.0.0.1:8080/#/experiments/651912994835839713  \n",
      "\n",
      " 30%|███       | 6/20 [00:57<02:25, 10.42s/trial, best loss: 5.354695072530291]"
     ]
    },
    {
     "name": "stderr",
     "output_type": "stream",
     "text": [
      "2025/05/29 17:07:55 INFO mlflow.tracking.fluent: Autologging successfully enabled for sklearn.\n",
      "\n"
     ]
    },
    {
     "name": "stdout",
     "output_type": "stream",
     "text": [
      "🏃 View run funny-swan-586 at: http://127.0.0.1:8080/#/experiments/651912994835839713/runs/7ae149f2bbcd46ad9028a1d3d4211534\n",
      "\n",
      "🧪 View experiment at: http://127.0.0.1:8080/#/experiments/651912994835839713  \n",
      "\n",
      " 35%|███▌      | 7/20 [01:12<02:34, 11.86s/trial, best loss: 5.354695072530291]"
     ]
    },
    {
     "name": "stderr",
     "output_type": "stream",
     "text": [
      "2025/05/29 17:08:10 INFO mlflow.tracking.fluent: Autologging successfully enabled for sklearn.\n",
      "\n"
     ]
    },
    {
     "name": "stdout",
     "output_type": "stream",
     "text": [
      "🏃 View run masked-vole-675 at: http://127.0.0.1:8080/#/experiments/651912994835839713/runs/d69e4cee78254d049e88a88355ac48fd\n",
      "\n",
      "🧪 View experiment at: http://127.0.0.1:8080/#/experiments/651912994835839713  \n",
      "\n",
      " 40%|████      | 8/20 [01:17<01:58,  9.89s/trial, best loss: 5.354695072530291]"
     ]
    },
    {
     "name": "stderr",
     "output_type": "stream",
     "text": [
      "2025/05/29 17:08:16 INFO mlflow.tracking.fluent: Autologging successfully enabled for sklearn.\n",
      "\n"
     ]
    },
    {
     "name": "stdout",
     "output_type": "stream",
     "text": [
      "🏃 View run abundant-bug-410 at: http://127.0.0.1:8080/#/experiments/651912994835839713/runs/29e1090a7bb64ab08f1eb9889a97608d\n",
      "\n",
      "🧪 View experiment at: http://127.0.0.1:8080/#/experiments/651912994835839713  \n",
      "\n",
      " 45%|████▌     | 9/20 [01:29<01:52, 10.27s/trial, best loss: 5.354695072530291]"
     ]
    },
    {
     "name": "stderr",
     "output_type": "stream",
     "text": [
      "2025/05/29 17:08:27 INFO mlflow.tracking.fluent: Autologging successfully enabled for sklearn.\n",
      "\n"
     ]
    },
    {
     "name": "stdout",
     "output_type": "stream",
     "text": [
      "🏃 View run placid-mink-114 at: http://127.0.0.1:8080/#/experiments/651912994835839713/runs/f28ce4d0b0b5440683b3ae21a9daf8cf\n",
      "\n",
      "🧪 View experiment at: http://127.0.0.1:8080/#/experiments/651912994835839713  \n",
      "\n",
      " 50%|█████     | 10/20 [01:38<01:41, 10.15s/trial, best loss: 5.354695072530291]"
     ]
    },
    {
     "name": "stderr",
     "output_type": "stream",
     "text": [
      "2025/05/29 17:08:37 INFO mlflow.tracking.fluent: Autologging successfully enabled for sklearn.\n",
      "\n"
     ]
    },
    {
     "name": "stdout",
     "output_type": "stream",
     "text": [
      "🏃 View run whimsical-shrike-188 at: http://127.0.0.1:8080/#/experiments/651912994835839713/runs/3c762600596444299847592d5c48802c\n",
      "\n",
      "🧪 View experiment at: http://127.0.0.1:8080/#/experiments/651912994835839713   \n",
      "\n",
      " 55%|█████▌    | 11/20 [01:47<01:26,  9.65s/trial, best loss: 5.335419588556921]"
     ]
    },
    {
     "name": "stderr",
     "output_type": "stream",
     "text": [
      "2025/05/29 17:08:46 INFO mlflow.tracking.fluent: Autologging successfully enabled for sklearn.\n",
      "\n"
     ]
    },
    {
     "name": "stdout",
     "output_type": "stream",
     "text": [
      "🏃 View run redolent-goose-264 at: http://127.0.0.1:8080/#/experiments/651912994835839713/runs/7ea9ca1ef1384803876b0561a499720c\n",
      "\n",
      "🧪 View experiment at: http://127.0.0.1:8080/#/experiments/651912994835839713   \n",
      "\n",
      " 60%|██████    | 12/20 [01:55<01:13,  9.16s/trial, best loss: 5.335419588556921]"
     ]
    },
    {
     "name": "stderr",
     "output_type": "stream",
     "text": [
      "2025/05/29 17:08:53 INFO mlflow.tracking.fluent: Autologging successfully enabled for sklearn.\n",
      "\n"
     ]
    },
    {
     "name": "stdout",
     "output_type": "stream",
     "text": [
      "🏃 View run legendary-shrike-482 at: http://127.0.0.1:8080/#/experiments/651912994835839713/runs/847c4e38934a484ebe4c0b4f4b2a020a\n",
      "\n",
      "🧪 View experiment at: http://127.0.0.1:8080/#/experiments/651912994835839713   \n",
      "\n",
      " 65%|██████▌   | 13/20 [02:01<00:56,  8.09s/trial, best loss: 5.335419588556921]"
     ]
    },
    {
     "name": "stderr",
     "output_type": "stream",
     "text": [
      "2025/05/29 17:08:59 INFO mlflow.tracking.fluent: Autologging successfully enabled for sklearn.\n",
      "\n"
     ]
    },
    {
     "name": "stdout",
     "output_type": "stream",
     "text": [
      "🏃 View run spiffy-perch-11 at: http://127.0.0.1:8080/#/experiments/651912994835839713/runs/a70b854d74954e9aa6c7178002e27d53\n",
      "\n",
      "🧪 View experiment at: http://127.0.0.1:8080/#/experiments/651912994835839713   \n",
      "\n",
      " 70%|███████   | 14/20 [02:09<00:48,  8.11s/trial, best loss: 5.335419588556921]"
     ]
    },
    {
     "name": "stderr",
     "output_type": "stream",
     "text": [
      "2025/05/29 17:09:07 INFO mlflow.tracking.fluent: Autologging successfully enabled for sklearn.\n",
      "\n"
     ]
    },
    {
     "name": "stdout",
     "output_type": "stream",
     "text": [
      "🏃 View run bouncy-jay-618 at: http://127.0.0.1:8080/#/experiments/651912994835839713/runs/75c23793197842e7bacefc5a99092875\n",
      "\n",
      "🧪 View experiment at: http://127.0.0.1:8080/#/experiments/651912994835839713   \n",
      "\n",
      " 75%|███████▌  | 15/20 [02:19<00:43,  8.75s/trial, best loss: 5.335419588556921]"
     ]
    },
    {
     "name": "stderr",
     "output_type": "stream",
     "text": [
      "2025/05/29 17:09:17 INFO mlflow.tracking.fluent: Autologging successfully enabled for sklearn.\n",
      "\n"
     ]
    },
    {
     "name": "stdout",
     "output_type": "stream",
     "text": [
      "🏃 View run agreeable-vole-160 at: http://127.0.0.1:8080/#/experiments/651912994835839713/runs/f14b5fddd0dc4665a7e1677722995749\n",
      "\n",
      "🧪 View experiment at: http://127.0.0.1:8080/#/experiments/651912994835839713   \n",
      "\n",
      " 80%|████████  | 16/20 [02:27<00:34,  8.60s/trial, best loss: 5.335419588556921]"
     ]
    },
    {
     "name": "stderr",
     "output_type": "stream",
     "text": [
      "2025/05/29 17:09:26 INFO mlflow.tracking.fluent: Autologging successfully enabled for sklearn.\n",
      "\n"
     ]
    },
    {
     "name": "stdout",
     "output_type": "stream",
     "text": [
      "🏃 View run shivering-sow-984 at: http://127.0.0.1:8080/#/experiments/651912994835839713/runs/8e2f4de5186c4863ae8f8df69485d2db\n",
      "\n",
      "🧪 View experiment at: http://127.0.0.1:8080/#/experiments/651912994835839713   \n",
      "\n",
      " 85%|████████▌ | 17/20 [02:38<00:27,  9.29s/trial, best loss: 5.335419588556921]"
     ]
    },
    {
     "name": "stderr",
     "output_type": "stream",
     "text": [
      "2025/05/29 17:09:37 INFO mlflow.tracking.fluent: Autologging successfully enabled for sklearn.\n",
      "\n"
     ]
    },
    {
     "name": "stdout",
     "output_type": "stream",
     "text": [
      "🏃 View run wistful-robin-188 at: http://127.0.0.1:8080/#/experiments/651912994835839713/runs/1ed2dddf4b7c4a6982c65198fdf247d9\n",
      "\n",
      "🧪 View experiment at: http://127.0.0.1:8080/#/experiments/651912994835839713   \n",
      "\n",
      " 90%|█████████ | 18/20 [02:51<00:20, 10.44s/trial, best loss: 5.322418787243458]"
     ]
    },
    {
     "name": "stderr",
     "output_type": "stream",
     "text": [
      "2025/05/29 17:09:50 INFO mlflow.tracking.fluent: Autologging successfully enabled for sklearn.\n",
      "\n"
     ]
    },
    {
     "name": "stdout",
     "output_type": "stream",
     "text": [
      "🏃 View run able-snake-838 at: http://127.0.0.1:8080/#/experiments/651912994835839713/runs/4c1f56b29334479282f790749dad15e3\n",
      "\n",
      "🧪 View experiment at: http://127.0.0.1:8080/#/experiments/651912994835839713   \n",
      "\n",
      " 95%|█████████▌| 19/20 [02:58<00:09,  9.40s/trial, best loss: 5.322418787243458]"
     ]
    },
    {
     "name": "stderr",
     "output_type": "stream",
     "text": [
      "2025/05/29 17:09:57 INFO mlflow.tracking.fluent: Autologging successfully enabled for sklearn.\n",
      "\n"
     ]
    },
    {
     "name": "stdout",
     "output_type": "stream",
     "text": [
      "🏃 View run loud-turtle-364 at: http://127.0.0.1:8080/#/experiments/651912994835839713/runs/8aecf638fb444855ac6358ee078838d4\n",
      "\n",
      "🧪 View experiment at: http://127.0.0.1:8080/#/experiments/651912994835839713   \n",
      "\n",
      "100%|██████████| 20/20 [03:04<00:00,  9.24s/trial, best loss: 5.322418787243458]\n"
     ]
    }
   ],
   "source": [
    "search_space = {\n",
    "        'max_depth': scope.int(hp.quniform('max_depth', 1, 20, 1)),\n",
    "        'n_estimators': scope.int(hp.quniform('n_estimators', 10, 50, 1)),\n",
    "        'min_samples_split': scope.int(hp.quniform('min_samples_split', 2, 10, 1)),\n",
    "        'min_samples_leaf': scope.int(hp.quniform('min_samples_leaf', 1, 4, 1)),\n",
    "        'random_state': 42\n",
    "    }\n",
    "\n",
    "rstate = np.random.default_rng(42)  # for reproducible results\n",
    "best_result = fmin(\n",
    "        fn=objective,\n",
    "        space=search_space,\n",
    "        algo=tpe.suggest,\n",
    "        max_evals=20,\n",
    "        trials=Trials(),\n",
    "        rstate=rstate\n",
    "    )"
   ]
  },
  {
   "cell_type": "code",
   "execution_count": null,
   "id": "717d5f0f",
   "metadata": {},
   "outputs": [],
   "source": []
  },
  {
   "cell_type": "code",
   "execution_count": null,
   "id": "10561448",
   "metadata": {},
   "outputs": [],
   "source": []
  }
 ],
 "metadata": {
  "kernelspec": {
   "display_name": "Python 3",
   "language": "python",
   "name": "python3"
  },
  "language_info": {
   "codemirror_mode": {
    "name": "ipython",
    "version": 3
   },
   "file_extension": ".py",
   "mimetype": "text/x-python",
   "name": "python",
   "nbconvert_exporter": "python",
   "pygments_lexer": "ipython3",
   "version": "3.12.1"
  }
 },
 "nbformat": 4,
 "nbformat_minor": 5
}
